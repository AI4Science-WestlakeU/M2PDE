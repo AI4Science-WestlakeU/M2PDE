{
 "cells": [
  {
   "cell_type": "code",
   "execution_count": null,
   "metadata": {},
   "outputs": [],
   "source": [
    "import torch\n",
    "import os\n",
    "import sys\n",
    "import matplotlib.pyplot as plt\n",
    "import argparse\n",
    "import numpy as np\n",
    "from tqdm.auto import tqdm\n",
    "import torch.nn.functional as F\n",
    "\n",
    "sys.path.append(\"../../\")\n",
    "from src.filepath import ABSOLUTE_PATH\n",
    "from src.model.UNet2d import Unet2D\n",
    "from src.model.fno import FNO2D\n",
    "from src.utils.utils import plot_compare_2d, relative_error\n",
    "from src.train.reaction_diffusion import cond_emb, renormalize\n",
    "from src.train.reaction_diffusion import normalize_to_neg_one_to_one as normalize"
   ]
  },
  {
   "cell_type": "code",
   "execution_count": 2,
   "metadata": {},
   "outputs": [],
   "source": [
    "model_type = \"FNO\""
   ]
  },
  {
   "cell_type": "code",
   "execution_count": null,
   "metadata": {},
   "outputs": [],
   "source": [
    "channel, out_dim, dim = 2, 1, 24\n",
    "if model_type == \"Unet\":\n",
    "\n",
    "    model1 = Unet2D(dim=dim, cond_emb=cond_emb(), out_dim=out_dim, dim_mults=(1, 2), channels=channel).to(\"cuda\")\n",
    "\n",
    "    model2 = Unet2D(dim=dim, cond_emb=cond_emb(), out_dim=out_dim, dim_mults=(1, 2), channels=channel).to(\"cuda\")\n",
    "\n",
    "    model1.load_state_dict(torch.load(\"../../results/reaction_diffusion/surrogateUnetu10000/model.pt\")[\"model\"])\n",
    "\n",
    "    model2.load_state_dict(torch.load(\"../../results/reaction_diffusion/surrogateUnetv10000/model.pt\")[\"model\"])\n",
    "elif model_type == \"ViT\":\n",
    "    model1 = ViT(\n",
    "        seq_len=20,\n",
    "        patch_size=2,\n",
    "        dim=64,\n",
    "        depth=2,\n",
    "        heads=8,\n",
    "        mlp_dim=128,\n",
    "        cond_emb=cond_emb(),\n",
    "        dropout=0.0,\n",
    "        emb_dropout=0.0,\n",
    "        channels=11,\n",
    "        out_channels=9,\n",
    "    ).to(\"cuda\")\n",
    "    model2 = ViT(\n",
    "        seq_len=20,\n",
    "        patch_size=2,\n",
    "        dim=64,\n",
    "        depth=2,\n",
    "        heads=8,\n",
    "        mlp_dim=128,\n",
    "        cond_emb=cond_emb(),\n",
    "        dropout=0.0,\n",
    "        emb_dropout=0.0,\n",
    "        channels=11,\n",
    "        out_channels=9,\n",
    "    ).to(\"cuda\")\n",
    "    model1.load_state_dict(torch.load(\"../../results/reaction_diffusion/surrogateViTu10000/model.pt\")[\"model\"])\n",
    "\n",
    "    model2.load_state_dict(torch.load(\"../../results/reaction_diffusion/surrogateViTv10000/model.pt\")[\"model\"])\n",
    "elif model_type == \"FNO\":\n",
    "    model1 = FNO2D(\n",
    "        in_channels=channel,\n",
    "        out_channels=out_dim,\n",
    "        nr_fno_layers=4,\n",
    "        fno_layer_size=24,\n",
    "        fno_modes=[6, 12],\n",
    "        time_input=False,\n",
    "        cond_emb=cond_emb(),\n",
    "    ).to(\"cuda\")\n",
    "    model2 = FNO2D(\n",
    "        in_channels=channel,\n",
    "        out_channels=out_dim,\n",
    "        nr_fno_layers=4,\n",
    "        fno_layer_size=24,\n",
    "        fno_modes=[6, 12],\n",
    "        time_input=False,\n",
    "        cond_emb=cond_emb(),\n",
    "    ).to(\"cuda\")\n",
    "    model1.load_state_dict(torch.load(\"../../results/reaction_diffusion/surrogateFNOu10000/model.pt\")[\"model\"])\n",
    "\n",
    "    model2.load_state_dict(torch.load(\"../../results/reaction_diffusion/surrogateFNOv10000/model.pt\")[\"model\"])"
   ]
  },
  {
   "cell_type": "markdown",
   "metadata": {},
   "source": [
    "validiation of u"
   ]
  },
  {
   "cell_type": "code",
   "execution_count": null,
   "metadata": {},
   "outputs": [],
   "source": [
    "data = (\n",
    "    torch.tensor(np.load(\"../../data/reaction_diffusion/reaction_diffusion_u_from_v_u.npy\")).float().to(\"cuda\")[9000:]\n",
    ")\n",
    "cond = (\n",
    "    torch.tensor(np.load(\"../../data/reaction_diffusion/reaction_diffusion_u_from_v_v.npy\")).float().to(\"cuda\")[9000:]\n",
    ")\n",
    "data = torch.tensor(data).unsqueeze(1)\n",
    "cond1 = torch.tensor(cond).unsqueeze(1)\n",
    "cond2 = data[:, :, 0:1].clone().expand(-1, -1, data.shape[2], -1)\n",
    "cond = torch.concat((cond1, cond2), dim=1)\n",
    "\n",
    "\n",
    "with torch.no_grad():\n",
    "\n",
    "    u_pred = renormalize(model1(normalize(cond)))\n",
    "\n",
    "\n",
    "rmse = relative_error(data, u_pred)\n",
    "\n",
    "\n",
    "rmse, F.mse_loss(data, u_pred)"
   ]
  },
  {
   "cell_type": "code",
   "execution_count": null,
   "metadata": {},
   "outputs": [],
   "source": [
    "random_n = np.random.randint(0, data.shape[0])\n",
    "plot_compare_2d(\n",
    "    true_d=data[random_n, 0],\n",
    "    pred_d=u_pred[random_n, 0],\n",
    ")\n",
    "# plot_compare_2d(data, un(u_pred))"
   ]
  },
  {
   "cell_type": "markdown",
   "metadata": {},
   "source": [
    "validiation of v"
   ]
  },
  {
   "cell_type": "code",
   "execution_count": null,
   "metadata": {},
   "outputs": [],
   "source": [
    "data = (\n",
    "    torch.tensor(np.load(\"../../data/reaction_diffusion/reaction_diffusion_v_from_u_v.npy\")).float().to(\"cuda\")[9000:]\n",
    ")\n",
    "cond = (\n",
    "    torch.tensor(np.load(\"../../data/reaction_diffusion/reaction_diffusion_v_from_u_u.npy\")).float().to(\"cuda\")[9000:]\n",
    ")\n",
    "data = torch.tensor(data).unsqueeze(1)\n",
    "cond1 = torch.tensor(cond).unsqueeze(1)\n",
    "cond2 = data[:, :, 0:1].clone().expand(-1, -1, data.shape[2], -1)\n",
    "cond = torch.concat((cond1, cond2), dim=1)\n",
    "\n",
    "with torch.no_grad():\n",
    "    v_pred = renormalize(model2(normalize(cond)))\n",
    "\n",
    "\n",
    "rmse = relative_error(data, v_pred)\n",
    "rmse, F.mse_loss(data, v_pred)"
   ]
  },
  {
   "cell_type": "code",
   "execution_count": null,
   "metadata": {},
   "outputs": [],
   "source": [
    "random_n = np.random.randint(0, data.shape[0])\n",
    "plot_compare_2d(\n",
    "    true_d=data[random_n, 0],\n",
    "    pred_d=(v_pred)[random_n, 0],\n",
    ")\n",
    "# plot_compare_2d(data, un(u_pred))"
   ]
  },
  {
   "cell_type": "markdown",
   "metadata": {},
   "source": [
    "compose"
   ]
  },
  {
   "cell_type": "code",
   "execution_count": null,
   "metadata": {},
   "outputs": [],
   "source": [
    "data = (\n",
    "    torch.tensor(np.load(ABSOLUTE_PATH + \"/data/reaction_diffusion/reaction_diffusion_uv.npy\"))\n",
    "    .float()\n",
    "    .to(\"cuda\")[:2000]\n",
    ")\n",
    "# data = (data + 5) / 10\n",
    "\n",
    "data = data.permute(0, 2, 1)\n",
    "\n",
    "# data1 = np.load('../../data/reaction_diffusion_u_from_v_u.npy')\n",
    "\n",
    "u, v = data[..., :20].unsqueeze(1), data[..., 20:].unsqueeze(1)\n",
    "\n",
    "u_intial, v_intial = u[:, :, 0:1].expand(-1, -1, 10, -1), v[:, :, 0:1].expand(-1, -1, 10, -1)\n",
    "\n",
    "u.shape, u_intial.shape"
   ]
  },
  {
   "cell_type": "code",
   "execution_count": null,
   "metadata": {},
   "outputs": [],
   "source": [
    "u_intial_n, v_intial_n = normalize(u_intial), normalize(v_intial)\n",
    "alpha = 0.5\n",
    "\n",
    "\n",
    "with torch.no_grad():\n",
    "\n",
    "    i = 0\n",
    "\n",
    "    eps = 1\n",
    "\n",
    "    v_iter = torch.ones_like(v)\n",
    "\n",
    "    u_iter = torch.ones_like(u)\n",
    "\n",
    "    while i < 100 and eps > 2e-5:\n",
    "\n",
    "        i = i + 1\n",
    "\n",
    "        condv = torch.concat((v_iter, u_intial_n), dim=1)\n",
    "\n",
    "        u_iter_new = model1(condv)\n",
    "\n",
    "        condu = torch.concat((u_iter, v_intial_n), dim=1)\n",
    "\n",
    "        v_iter_new = model2(condu)\n",
    "\n",
    "        eps = F.l1_loss(u_iter, u_iter_new) + F.l1_loss(v_iter, v_iter_new)\n",
    "\n",
    "        u_iter = u_iter_new * (1 - alpha) + alpha * u_iter\n",
    "\n",
    "        v_iter = v_iter_new * (1 - alpha) + alpha * v_iter\n",
    "\n",
    "        print(\"iteration: \", i, \" eps: \", eps)"
   ]
  },
  {
   "cell_type": "code",
   "execution_count": null,
   "metadata": {},
   "outputs": [],
   "source": [
    "mult_p_true = torch.concat((u, v), dim=1)\n",
    "mult_p_pred = renormalize(torch.concat((u_iter, v_iter), dim=1))\n",
    "\n",
    "\n",
    "mult_p_true.shape, mult_p_pred.shape"
   ]
  },
  {
   "cell_type": "code",
   "execution_count": null,
   "metadata": {},
   "outputs": [],
   "source": [
    "relative_error(mult_p_pred[:, 0], mult_p_true[:, 0]), relative_error(mult_p_pred[:, 1], mult_p_true[:, 1])"
   ]
  },
  {
   "cell_type": "code",
   "execution_count": null,
   "metadata": {},
   "outputs": [],
   "source": [
    "random_n = np.random.randint(0, data.shape[0])\n",
    "random_n = -1\n",
    "\n",
    "\n",
    "plot_compare_2d(\n",
    "    true_d=mult_p_true[random_n, 1],\n",
    "    pred_d=mult_p_pred[random_n, 1],\n",
    "    savep=ABSOLUTE_PATH + \"/results/reaction_diffusion/diffusion.pdf\",\n",
    ")"
   ]
  }
 ],
 "metadata": {
  "kernelspec": {
   "display_name": "cindm",
   "language": "python",
   "name": "python3"
  },
  "language_info": {
   "codemirror_mode": {
    "name": "ipython",
    "version": 3
   },
   "file_extension": ".py",
   "mimetype": "text/x-python",
   "name": "python",
   "nbconvert_exporter": "python",
   "pygments_lexer": "ipython3",
   "version": "3.12.4"
  }
 },
 "nbformat": 4,
 "nbformat_minor": 2
}
