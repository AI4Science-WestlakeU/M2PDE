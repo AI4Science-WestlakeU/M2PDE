{
 "cells": [
  {
   "cell_type": "code",
   "execution_count": null,
   "metadata": {},
   "outputs": [],
   "source": [
    "import torch\n",
    "import os\n",
    "import sys\n",
    "import matplotlib.pyplot as plt\n",
    "import argparse\n",
    "import numpy as np\n",
    "from tqdm.auto import tqdm\n",
    "import torch.nn.functional as F\n",
    "from torch.utils.data import DataLoader, TensorDataset\n",
    "\n",
    "sys.path.append(\"../../\")\n",
    "from src.model.video_diffusion_pytorch_conv3d import Unet3D_with_Conv3D\n",
    "from src.model.fno import FNO3D\n",
    "from src.model.diffusion import GaussianDiffusion\n",
    "from src.train.nuclear_thermal_coupling import load_nt_dataset_emb, cond_emb, normalize, renormalize\n",
    "from src.inference.compose import compose_diffusion\n",
    "from src.utils.utils import L2_norm, get_parameter_net, plot_compare_2d, relative_error"
   ]
  },
  {
   "cell_type": "code",
   "execution_count": 3,
   "metadata": {},
   "outputs": [],
   "source": [
    "device = \"cuda\"\n",
    "iter = \"iter1\"\n",
    "diffusion_step = 250\n",
    "model_type = \"Unet\""
   ]
  },
  {
   "cell_type": "markdown",
   "metadata": {},
   "source": [
    "# neutron"
   ]
  },
  {
   "cell_type": "code",
   "execution_count": 4,
   "metadata": {},
   "outputs": [],
   "source": [
    "train_which = \"neutron\"\n",
    "dim = 8\n",
    "emb = cond_emb(train_which, device=device)"
   ]
  },
  {
   "cell_type": "code",
   "execution_count": null,
   "metadata": {},
   "outputs": [],
   "source": [
    "cond, data = load_nt_dataset_emb(field=train_which, dataset=iter, device=device)\n",
    "if model_type == \"Unet\":\n",
    "    model = Unet3D_with_Conv3D(\n",
    "        dim=dim,\n",
    "        cond_dim=len(cond),\n",
    "        out_dim=data.shape[1],\n",
    "        cond_emb=emb,\n",
    "        dim_mults=(1, 2, 4),\n",
    "        use_sparse_linear_attn=False,\n",
    "        attn_dim_head=16,\n",
    "    ).to(device)\n",
    "elif model_type == \"ViT\":\n",
    "    model = ViT(\n",
    "        image_size=data.shape[-2:],\n",
    "        image_patch_size=(8, 2),\n",
    "        frames=data.shape[2],\n",
    "        frame_patch_size=2,\n",
    "        dim=128,\n",
    "        depth=2,\n",
    "        heads=8,\n",
    "        mlp_dim=256,\n",
    "        cond_emb=emb,\n",
    "        Time_Input=True,\n",
    "        channels=len(emb) + data.shape[1],\n",
    "        out_channels=data.shape[1],\n",
    "        dropout=0.0,\n",
    "        emb_dropout=0.0,\n",
    "    )\n",
    "elif model_type == \"FNO\":\n",
    "    model = FNO3D(\n",
    "        in_channels=len(emb) + data.shape[1],\n",
    "        out_channels=data.shape[1],\n",
    "        nr_fno_layers=3,\n",
    "        fno_layer_size=8,\n",
    "        fno_modes=[6, 16, 8],\n",
    "        cond_emb=emb,\n",
    "        time_input=True,\n",
    "    )\n",
    "diffusion_neu = GaussianDiffusion(\n",
    "    model, seq_length=tuple(data.shape[1:]), timesteps=diffusion_step, auto_normalize=False\n",
    ").to(device)\n",
    "\n",
    "if model_type == \"Unet\":\n",
    "    diffusion_neu.load_state_dict(\n",
    "        torch.load(\"../../results/nuclear_thermal_coupling/diffusionUnetneutron/\" + iter + \"_5000/model.pt\")[\"model\"],\n",
    "    )\n",
    "elif model_type == \"ViT\":\n",
    "    diffusion_neu.load_state_dict(\n",
    "        torch.load(\"../../results/nuclear_thermal_coupling/diffusionViTneutron/\" + iter + \"_5000/model.pt\")[\"model\"],\n",
    "    )\n",
    "else:\n",
    "    diffusion_neu.load_state_dict(\n",
    "        torch.load(\"../../results/nuclear_thermal_coupling/diffusionFNOneutron/\" + iter + \"_5000/model.pt\")[\"model\"],\n",
    "    )"
   ]
  },
  {
   "cell_type": "code",
   "execution_count": null,
   "metadata": {},
   "outputs": [],
   "source": [
    "b = -32\n",
    "for i in range(len(cond)):\n",
    "    cond[i] = cond[i][b:]\n",
    "data = data[b:]\n",
    "with torch.no_grad():\n",
    "    pred = diffusion_neu.sample(cond[0].shape[0], cond)\n",
    "    pred = renormalize(pred, \"neutron\")\n",
    "    data = renormalize(data, \"neutron\")\n",
    "    rmse = relative_error(data, pred)\n",
    "    mse = F.mse_loss(pred, data)\n",
    "    # print(get_relative_error(model_neu, cond, data, batchsize=32))\n",
    "rmse, mse"
   ]
  },
  {
   "cell_type": "code",
   "execution_count": null,
   "metadata": {},
   "outputs": [],
   "source": [
    "plot_compare_2d(data[1, -1, -1], pred[1, -1, -1])"
   ]
  },
  {
   "cell_type": "markdown",
   "metadata": {},
   "source": [
    "# fuel"
   ]
  },
  {
   "cell_type": "code",
   "execution_count": 25,
   "metadata": {},
   "outputs": [],
   "source": [
    "train_which = \"solid\"\n",
    "dim = 8\n",
    "emb = cond_emb(train_which, device=device)"
   ]
  },
  {
   "cell_type": "code",
   "execution_count": null,
   "metadata": {},
   "outputs": [],
   "source": [
    "cond, data = load_nt_dataset_emb(field=train_which, dataset=iter, device=device)\n",
    "if model_type == \"Unet\":\n",
    "    model = Unet3D_with_Conv3D(\n",
    "        dim=dim,\n",
    "        cond_dim=len(cond),\n",
    "        out_dim=data.shape[1],\n",
    "        cond_emb=emb,\n",
    "        dim_mults=(1, 2, 4),\n",
    "        use_sparse_linear_attn=False,\n",
    "        attn_dim_head=16,\n",
    "    ).to(device)\n",
    "elif model_type == \"ViT\":\n",
    "    model = ViT(\n",
    "        image_size=data.shape[-2:],\n",
    "        image_patch_size=(8, 2),\n",
    "        frames=data.shape[2],\n",
    "        frame_patch_size=2,\n",
    "        dim=128,\n",
    "        depth=2,\n",
    "        heads=8,\n",
    "        mlp_dim=256,\n",
    "        cond_emb=emb,\n",
    "        Time_Input=True,\n",
    "        channels=len(emb) + data.shape[1],\n",
    "        out_channels=data.shape[1],\n",
    "        dropout=0.0,\n",
    "        emb_dropout=0.0,\n",
    "    )\n",
    "elif model_type == \"FNO\":\n",
    "    model = FNO3D(\n",
    "        in_channels=len(emb) + data.shape[1],\n",
    "        out_channels=data.shape[1],\n",
    "        nr_fno_layers=3,\n",
    "        fno_layer_size=8,\n",
    "        fno_modes=[6, 16, 4],\n",
    "        cond_emb=emb,\n",
    "        time_input=True,\n",
    "    )\n",
    "diffusion_fuel = GaussianDiffusion(\n",
    "    model,\n",
    "    seq_length=tuple(data.shape[1:]),\n",
    "    timesteps=diffusion_step,\n",
    "    auto_normalize=False,\n",
    ").to(device)\n",
    "\n",
    "if model_type == \"Unet\":\n",
    "    diffusion_fuel.load_state_dict(\n",
    "        torch.load(\"../../results/nuclear_thermal_coupling/diffusionUnetsolid/\" + iter + \"_5000/model.pt\")[\"model\"],\n",
    "        strict=False,\n",
    "    )\n",
    "elif model_type == \"ViT\":\n",
    "    diffusion_fuel.load_state_dict(\n",
    "        torch.load(\"../../results/nuclear_thermal_coupling/diffusionViTsolid/\" + iter + \"_5000/model.pt\")[\"model\"],\n",
    "    )\n",
    "else:\n",
    "    diffusion_fuel.load_state_dict(\n",
    "        torch.load(\"../../results/nuclear_thermal_coupling/diffusionFNOsolid/\" + iter + \"_5000/model.pt\")[\"model\"],\n",
    "    )"
   ]
  },
  {
   "cell_type": "code",
   "execution_count": null,
   "metadata": {},
   "outputs": [],
   "source": [
    "b = -32\n",
    "for i in range(len(cond)):\n",
    "    cond[i] = cond[i][b:]\n",
    "data = data[b:]\n",
    "with torch.no_grad():\n",
    "    pred = diffusion_fuel.sample(cond[0].shape[0], cond)\n",
    "    pred = renormalize(pred, \"solid\")\n",
    "    data = renormalize(data, \"solid\")\n",
    "    rmse = relative_error(data, pred)\n",
    "    mse = F.mse_loss(pred, data)\n",
    "    # print(get_relative_error(model_neu, cond, data, batchsize=32))\n",
    "rmse, mse"
   ]
  },
  {
   "cell_type": "code",
   "execution_count": null,
   "metadata": {},
   "outputs": [],
   "source": [
    "plot_compare_2d(data[-1, -1, 6], pred[-1, -1, 6])"
   ]
  },
  {
   "cell_type": "markdown",
   "metadata": {},
   "source": [
    "# fluid"
   ]
  },
  {
   "cell_type": "code",
   "execution_count": 41,
   "metadata": {},
   "outputs": [],
   "source": [
    "train_which = \"fluid\"\n",
    "dim = 16\n",
    "emb = cond_emb(train_which, device=device)"
   ]
  },
  {
   "cell_type": "code",
   "execution_count": null,
   "metadata": {},
   "outputs": [],
   "source": [
    "cond, data = load_nt_dataset_emb(field=train_which, dataset=iter, device=device)\n",
    "if model_type == \"Unet\":\n",
    "\n",
    "    model = Unet3D_with_Conv3D(\n",
    "        dim=dim,\n",
    "        cond_dim=len(cond),\n",
    "        out_dim=data.shape[1],\n",
    "        cond_emb=emb,\n",
    "        dim_mults=(1, 2, 4),\n",
    "        use_sparse_linear_attn=False,\n",
    "        attn_dim_head=16,\n",
    "    ).to(device)\n",
    "elif model_type == \"ViT\":\n",
    "    model = ViT(\n",
    "        image_size=data.shape[-2:],\n",
    "        image_patch_size=(8, 2),\n",
    "        frames=data.shape[2],\n",
    "        frame_patch_size=2,\n",
    "        dim=256,\n",
    "        depth=2,\n",
    "        heads=8,\n",
    "        mlp_dim=256,\n",
    "        cond_emb=emb,\n",
    "        Time_Input=True,\n",
    "        channels=len(emb) + data.shape[1],\n",
    "        out_channels=data.shape[1],\n",
    "        dropout=0.0,\n",
    "        emb_dropout=0.0,\n",
    "    )\n",
    "elif model_type == \"FNO\":\n",
    "    model = FNO3D(\n",
    "        in_channels=len(emb) + data.shape[1],\n",
    "        out_channels=data.shape[1],\n",
    "        nr_fno_layers=3,\n",
    "        fno_layer_size=16,\n",
    "        fno_modes=[6, 16, 6],\n",
    "        cond_emb=emb,\n",
    "        time_input=True,\n",
    "    )\n",
    "\n",
    "diffusion_fluid = GaussianDiffusion(\n",
    "    model,\n",
    "    seq_length=tuple(data.shape[1:]),\n",
    "    timesteps=diffusion_step,\n",
    "    auto_normalize=False,\n",
    ").to(device)\n",
    "\n",
    "\n",
    "if model_type == \"Unet\":\n",
    "    diffusion_fluid.load_state_dict(\n",
    "        torch.load(\"../../results/nuclear_thermal_coupling/diffusionUnetfluid/\" + iter + \"_5000/model.pt\")[\"model\"],\n",
    "        strict=False,\n",
    "    )\n",
    "elif model_type == \"ViT\":\n",
    "    diffusion_fluid.load_state_dict(\n",
    "        torch.load(\"../../results/nuclear_thermal_coupling/diffusionViTfluid/\" + iter + \"_5000/model.pt\")[\"model\"],\n",
    "    )\n",
    "else:\n",
    "    diffusion_fluid.load_state_dict(\n",
    "        torch.load(\"../../results/nuclear_thermal_coupling/diffusionFNOfluid/\" + iter + \"_5000/model.pt\")[\"model\"],\n",
    "    )"
   ]
  },
  {
   "cell_type": "code",
   "execution_count": null,
   "metadata": {},
   "outputs": [],
   "source": [
    "b = -32\n",
    "for i in range(len(cond)):\n",
    "    cond[i] = cond[i][b:]\n",
    "data = data[b:]\n",
    "with torch.no_grad():\n",
    "    pred = diffusion_fluid.sample(cond[0].shape[0], cond)\n",
    "    pred = renormalize(pred, field=\"fluid\")\n",
    "    data = renormalize(data, field=\"fluid\")"
   ]
  },
  {
   "cell_type": "code",
   "execution_count": null,
   "metadata": {},
   "outputs": [],
   "source": [
    "loss_fluid = 0\n",
    "for i in range(4):\n",
    "    cu_loss = relative_error(data[:, i], pred[:, i])\n",
    "    print(cu_loss)\n",
    "    loss_fluid += cu_loss\n",
    "relative_error(data, pred), loss_fluid / 4"
   ]
  },
  {
   "cell_type": "code",
   "execution_count": null,
   "metadata": {},
   "outputs": [],
   "source": [
    "channel = 2\n",
    "plot_compare_2d(data[-2, channel, -1], pred[-2, channel, -1])"
   ]
  },
  {
   "cell_type": "markdown",
   "metadata": {},
   "source": [
    "# combine"
   ]
  },
  {
   "cell_type": "code",
   "execution_count": 65,
   "metadata": {},
   "outputs": [],
   "source": [
    "def update_neu(\n",
    "    alpha, t, model, field_noise, mult_p_estimate, mult_p_estimate_before, other_condition, normalize, renormalize\n",
    "):\n",
    "    weight_field = []\n",
    "    for i in range(len(mult_p_estimate)):\n",
    "        weight_field.append(alpha * mult_p_estimate[i] + (1 - alpha) * mult_p_estimate_before[i])\n",
    "    T_n = torch.concat((weight_field[1], weight_field[2][:, 0:1]), dim=-1)\n",
    "    (phi_bc,) = other_condition\n",
    "    cond = [phi_bc, T_n]\n",
    "    field_noise_next, x0 = model.p_sample(field_noise, t, cond)\n",
    "    return field_noise_next, x0\n",
    "\n",
    "\n",
    "def update_fuel(\n",
    "    alpha, t, model, field_noise, mult_p_estimate, mult_p_estimate_before, other_condition, normalize, renormalize\n",
    "):\n",
    "    weight_field = []\n",
    "    for i in range(len(mult_p_estimate)):\n",
    "        weight_field.append(alpha * mult_p_estimate[i] + (1 - alpha) * mult_p_estimate_before[i])\n",
    "    neu = weight_field[0][..., :8]\n",
    "    fluid_b = weight_field[2][:, 0:1, :, :, 0:1]\n",
    "    cond = [neu, fluid_b]\n",
    "    field_noise_next, x0 = model.p_sample(field_noise, t, cond)\n",
    "    return field_noise_next, x0\n",
    "\n",
    "\n",
    "def k(t):\n",
    "    return 17.5 * (1 - 0.223) / (1 + 0.161) + 1.54e-2 * (1 + 0.0061) / (1 + 0.161) * t + 9.38e-6 * t * t\n",
    "\n",
    "\n",
    "def update_fluid(\n",
    "    alpha, t, model, field_noise, mult_p_estimate, mult_p_estimate_before, other_condition, normalize, renormalize\n",
    "):\n",
    "    weight_field = []\n",
    "    for i in range(len(mult_p_estimate)):\n",
    "        weight_field.append(alpha * mult_p_estimate[i] + (1 - alpha) * mult_p_estimate_before[i])\n",
    "    fuel = renormalize(weight_field[1], field=\"solid\")\n",
    "    flux = normalize((fuel[..., -2:-1] - fuel[..., -1:None]) * k(fuel[..., -1:None]), field=\"flux\")\n",
    "    cond = [flux]\n",
    "    field_noise_next, x0 = model.p_sample(field_noise, t, cond)\n",
    "    return field_noise_next, x0"
   ]
  },
  {
   "cell_type": "code",
   "execution_count": 66,
   "metadata": {},
   "outputs": [],
   "source": [
    "b = None\n",
    "fuel = torch.tensor(np.load(\"../../data/NTcouple/val/fuel.npy\")).float().to(device)[:b]\n",
    "fluid = torch.tensor(np.load(\"../../data/NTcouple/val/fluid.npy\")).float().to(device)[:b]\n",
    "neu = torch.tensor(np.load(\"../../data/NTcouple/val/neu.npy\")).float().to(device)[:b]\n",
    "bc = torch.tensor(np.load(\"../../data/NTcouple/val/bc.npy\")).float().to(device)[:b]\n",
    "bc = normalize(bc, \"neutron\")\n",
    "b = bc.shape[0]"
   ]
  },
  {
   "cell_type": "code",
   "execution_count": null,
   "metadata": {},
   "outputs": [],
   "source": [
    "mult_p = compose_diffusion(\n",
    "    [diffusion_neu, diffusion_fuel, diffusion_fluid],\n",
    "    [neu.shape, fuel.shape, fluid.shape],\n",
    "    [update_neu, update_fuel, update_fluid],\n",
    "    normalize,\n",
    "    renormalize,\n",
    "    [bc],\n",
    "    2,\n",
    ")"
   ]
  },
  {
   "cell_type": "code",
   "execution_count": 68,
   "metadata": {},
   "outputs": [],
   "source": [
    "mult_p[0] = renormalize(mult_p[0], \"neutron\")\n",
    "mult_p[1] = renormalize(mult_p[1], \"solid\")\n",
    "mult_p[2] = renormalize(mult_p[2], \"fluid\")"
   ]
  },
  {
   "cell_type": "code",
   "execution_count": null,
   "metadata": {},
   "outputs": [],
   "source": [
    "mult_p[2].shape"
   ]
  },
  {
   "cell_type": "code",
   "execution_count": null,
   "metadata": {},
   "outputs": [],
   "source": [
    "loss_fluid = 0\n",
    "fluid_p = mult_p[2]\n",
    "for i in range(4):\n",
    "    cu_loss = relative_error(fluid[:, i], fluid_p[:, i])\n",
    "    print(cu_loss)\n",
    "    loss_fluid += cu_loss\n",
    "loss_fluid = loss_fluid / 4\n",
    "relative_error(neu, mult_p[0]), relative_error(fuel, mult_p[1]), relative_error(fluid, mult_p[2]), loss_fluid"
   ]
  },
  {
   "cell_type": "markdown",
   "metadata": {},
   "source": [
    "compose iter 1: 0.01997484266757965,0.039196208119392395,0.06267786026000977,0.2772705154493451  \n",
    "compose iter 2: 0.020601607859134674,0.03201070800423622,0.04417296126484871;0.20663573313504457   \n",
    "compose iter 3: 0.020464245229959488,0.032622046768665314, 0.04533526301383972;0.2105386178009212"
   ]
  },
  {
   "cell_type": "code",
   "execution_count": 127,
   "metadata": {},
   "outputs": [],
   "source": [
    "time_step = -1"
   ]
  },
  {
   "cell_type": "code",
   "execution_count": null,
   "metadata": {},
   "outputs": [],
   "source": [
    "pred, data = mult_p[0], neu\n",
    "channel = 0\n",
    "plot_compare_2d(\n",
    "    data[-1, channel, time_step],\n",
    "    pred[-1, channel, time_step],\n",
    "    savep=\"../../results/nuclear_thermal_coupling/neutron_diffuson.png\",\n",
    ")"
   ]
  },
  {
   "cell_type": "code",
   "execution_count": null,
   "metadata": {},
   "outputs": [],
   "source": [
    "pred, data = mult_p[1], fuel\n",
    "channel = 0\n",
    "plot_compare_2d(\n",
    "    data[-1, channel, time_step],\n",
    "    pred[-1, channel, time_step],\n",
    "    savep=\"../../results/nuclear_thermal_coupling/solid_diffuson.png\",\n",
    ")"
   ]
  },
  {
   "cell_type": "code",
   "execution_count": null,
   "metadata": {},
   "outputs": [],
   "source": [
    "pred, data = mult_p[2], fluid\n",
    "phy_lis = [\"T\", \"P\", \"vx\", \"vy\"]\n",
    "for i in range(4):\n",
    "\n",
    "    channel = i\n",
    "\n",
    "    plot_compare_2d(\n",
    "        data[-1, channel, time_step],\n",
    "        pred[-1, channel, time_step],\n",
    "        savep=\"../../results/nuclear_thermal_coupling/fluid\" + phy_lis[i] + \"_diffuson.png\",\n",
    "    )"
   ]
  }
 ],
 "metadata": {
  "kernelspec": {
   "display_name": "pytorch",
   "language": "python",
   "name": "python3"
  },
  "language_info": {
   "codemirror_mode": {
    "name": "ipython",
    "version": 3
   },
   "file_extension": ".py",
   "mimetype": "text/x-python",
   "name": "python",
   "nbconvert_exporter": "python",
   "pygments_lexer": "ipython3",
   "version": "3.12.4"
  }
 },
 "nbformat": 4,
 "nbformat_minor": 2
}
