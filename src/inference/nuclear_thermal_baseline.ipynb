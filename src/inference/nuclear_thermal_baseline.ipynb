{
 "cells": [
  {
   "cell_type": "code",
   "execution_count": 37,
   "metadata": {},
   "outputs": [],
   "source": [
    "import torch\n",
    "import os\n",
    "import sys\n",
    "import matplotlib.pyplot as plt\n",
    "import argparse\n",
    "import numpy as np\n",
    "from tqdm.auto import tqdm\n",
    "import torch.nn.functional as F\n",
    "from torch.utils.data import DataLoader, TensorDataset\n",
    "\n",
    "sys.path.append(\"../../\")\n",
    "from src.model.video_diffusion_pytorch_conv3d import Unet3D_with_Conv3D\n",
    "from src.model.fno import FNO3D\n",
    "from src.train.nuclear_thermal_coupling import load_nt_dataset_emb, cond_emb, normalize, renormalize\n",
    "from src.utils.utils import L2_norm, get_parameter_net, plot_compare_2d, relative_error"
   ]
  },
  {
   "cell_type": "code",
   "execution_count": 42,
   "metadata": {},
   "outputs": [],
   "source": [
    "device = \"cuda\"\n",
    "iter = \"iter1\"\n",
    "model_type = \"FNO\""
   ]
  },
  {
   "cell_type": "markdown",
   "metadata": {},
   "source": [
    "# neutron"
   ]
  },
  {
   "cell_type": "code",
   "execution_count": 43,
   "metadata": {},
   "outputs": [],
   "source": [
    "train_which = \"neutron\"\n",
    "dim = 8\n",
    "emb = cond_emb(train_which, device=device)"
   ]
  },
  {
   "cell_type": "code",
   "execution_count": null,
   "metadata": {},
   "outputs": [],
   "source": [
    "cond, data = load_nt_dataset_emb(field=train_which, dataset=iter, device=device)\n",
    "if model_type == \"Unet\":\n",
    "    model_neu = Unet3D_with_Conv3D(\n",
    "        dim=dim,\n",
    "        cond_dim=0,\n",
    "        channels=len(emb),\n",
    "        out_dim=1,\n",
    "        cond_emb=emb,\n",
    "        time_cond=False,\n",
    "        dim_mults=(1, 2, 4),\n",
    "        use_sparse_linear_attn=False,\n",
    "        attn_dim_head=16,\n",
    "    ).to(device)\n",
    "\n",
    "    model_neu.load_state_dict(\n",
    "        torch.load(\"../../results/nuclear_thermal_coupling/surrogateUnetneutron/\" + iter + \"_5000/model.pt\")[\"model\"]\n",
    "    )\n",
    "elif model_type == \"ViT\":\n",
    "    model_neu = ViT(\n",
    "        image_size=data.shape[-2:],\n",
    "        image_patch_size=(8, 2),\n",
    "        frames=data.shape[2],\n",
    "        frame_patch_size=2,\n",
    "        dim=128,\n",
    "        depth=2,\n",
    "        heads=8,\n",
    "        mlp_dim=256,\n",
    "        cond_emb=emb,\n",
    "        channels=len(emb),\n",
    "        out_channels=data.shape[1],\n",
    "        dropout=0.1,\n",
    "        emb_dropout=0.1,\n",
    "    ).to(device)\n",
    "    model_neu.load_state_dict(\n",
    "        torch.load(\"../../results/nuclear_thermal_coupling/surrogateViTneutron/\" + iter + \"_5000/model.pt\")[\"model\"]\n",
    "    )\n",
    "elif model_type == \"FNO\":\n",
    "    model_neu = FNO3D(\n",
    "        in_channels=len(emb),\n",
    "        out_channels=data.shape[1],\n",
    "        nr_fno_layers=3,\n",
    "        fno_layer_size=8,\n",
    "        fno_modes=[6, 16, 8],\n",
    "        cond_emb=emb,\n",
    "    ).to(device)\n",
    "    model_neu.load_state_dict(\n",
    "        torch.load(\"../../results/nuclear_thermal_coupling/surrogateFNOneutron/\" + iter + \"_5000/model.pt\")[\"model\"]\n",
    "    )"
   ]
  },
  {
   "cell_type": "code",
   "execution_count": null,
   "metadata": {},
   "outputs": [],
   "source": [
    "b = -32\n",
    "for i in range(len(cond)):\n",
    "    cond[i] = cond[i][b:]\n",
    "data = data[b:]\n",
    "with torch.no_grad():\n",
    "    pred = model_neu(cond)\n",
    "    pred = renormalize(pred, \"neutron\")\n",
    "    data = renormalize(data, \"neutron\")\n",
    "    rmse = relative_error(data, pred)\n",
    "    mse = F.mse_loss(pred, data)\n",
    "    # print(get_relative_error(model_neu, cond, data, batchsize=32))\n",
    "rmse, mse"
   ]
  },
  {
   "cell_type": "code",
   "execution_count": null,
   "metadata": {},
   "outputs": [],
   "source": [
    "plot_compare_2d(data[-1, -1, -1], pred[-1, -1, -1])"
   ]
  },
  {
   "cell_type": "markdown",
   "metadata": {},
   "source": [
    "# fuel"
   ]
  },
  {
   "cell_type": "code",
   "execution_count": 47,
   "metadata": {},
   "outputs": [],
   "source": [
    "train_which = \"solid\"\n",
    "dim = 8\n",
    "emb = cond_emb(train_which, device=device)"
   ]
  },
  {
   "cell_type": "code",
   "execution_count": null,
   "metadata": {},
   "outputs": [],
   "source": [
    "cond, data = load_nt_dataset_emb(field=train_which, dataset=iter, device=device)\n",
    "if model_type == \"Unet\":\n",
    "    model_fuel = Unet3D_with_Conv3D(\n",
    "        dim=dim,\n",
    "        cond_dim=0,\n",
    "        channels=len(emb),\n",
    "        out_dim=1,\n",
    "        cond_emb=emb,\n",
    "        time_cond=False,\n",
    "        dim_mults=(1, 2, 4),\n",
    "        use_sparse_linear_attn=False,\n",
    "        attn_dim_head=16,\n",
    "    ).to(device)\n",
    "    model_fuel.load_state_dict(\n",
    "        torch.load(\"../../results/nuclear_thermal_coupling/surrogateUnetsolid/\" + iter + \"_5000/model.pt\")[\"model\"]\n",
    "    )\n",
    "elif model_type == \"ViT\":\n",
    "    model_fuel = ViT(\n",
    "        image_size=data.shape[-2:],\n",
    "        image_patch_size=(8, 2),\n",
    "        frames=data.shape[2],\n",
    "        frame_patch_size=2,\n",
    "        dim=128,\n",
    "        depth=2,\n",
    "        heads=8,\n",
    "        mlp_dim=256,\n",
    "        cond_emb=emb,\n",
    "        channels=len(emb),\n",
    "        out_channels=data.shape[1],\n",
    "        dropout=0.1,\n",
    "        emb_dropout=0.1,\n",
    "    ).to(device)\n",
    "    model_fuel.load_state_dict(\n",
    "        torch.load(\"../../results/nuclear_thermal_coupling/surrogateViTsolid/\" + iter + \"_5000/model.pt\")[\"model\"]\n",
    "    )\n",
    "elif model_type == \"FNO\":\n",
    "    model_fuel = FNO3D(\n",
    "        in_channels=len(emb),\n",
    "        out_channels=data.shape[1],\n",
    "        nr_fno_layers=3,\n",
    "        fno_layer_size=8,\n",
    "        fno_modes=[6, 16, 4],\n",
    "        cond_emb=emb,\n",
    "    ).to(device)\n",
    "    model_fuel.load_state_dict(\n",
    "        torch.load(\"../../results/nuclear_thermal_coupling/surrogateFNOsolid/\" + iter + \"_5000/model.pt\")[\"model\"]\n",
    "    )"
   ]
  },
  {
   "cell_type": "code",
   "execution_count": null,
   "metadata": {},
   "outputs": [],
   "source": [
    "b = -32\n",
    "for i in range(len(cond)):\n",
    "    cond[i] = cond[i][b:]\n",
    "data = data[b:]\n",
    "with torch.no_grad():\n",
    "    pred = model_fuel(cond)\n",
    "    pred = renormalize(pred, \"solid\")\n",
    "    data = renormalize(data, \"solid\")\n",
    "    rmse = relative_error(data, pred)\n",
    "    mse = F.mse_loss(pred, data)\n",
    "    # print(get_relative_error(model_neu, cond, data, batchsize=32))\n",
    "rmse, mse"
   ]
  },
  {
   "cell_type": "code",
   "execution_count": null,
   "metadata": {},
   "outputs": [],
   "source": [
    "plot_compare_2d(data[-1, -1, -1], pred[-1, -1, -1])"
   ]
  },
  {
   "cell_type": "markdown",
   "metadata": {},
   "source": [
    "# fluid"
   ]
  },
  {
   "cell_type": "code",
   "execution_count": 51,
   "metadata": {},
   "outputs": [],
   "source": [
    "train_which = \"fluid\"\n",
    "dim = 16\n",
    "emb = cond_emb(train_which, device=device)"
   ]
  },
  {
   "cell_type": "code",
   "execution_count": null,
   "metadata": {},
   "outputs": [],
   "source": [
    "cond, data = load_nt_dataset_emb(field=train_which, dataset=iter, device=device)\n",
    "if model_type == \"Unet\":\n",
    "    model_fluid = Unet3D_with_Conv3D(\n",
    "        dim=dim,\n",
    "        cond_dim=0,\n",
    "        channels=len(emb),\n",
    "        out_dim=4,\n",
    "        cond_emb=emb,\n",
    "        time_cond=False,\n",
    "        dim_mults=(1, 2, 4),\n",
    "        use_sparse_linear_attn=False,\n",
    "        attn_dim_head=16,\n",
    "    ).to(device)\n",
    "\n",
    "    model_fluid.load_state_dict(\n",
    "        torch.load(\"../../results/nuclear_thermal_coupling/surrogateUnetfluid/\" + iter + \"_5000/model.pt\")[\"model\"]\n",
    "    )\n",
    "elif model_type == \"ViT\":\n",
    "    model_fluid = ViT(\n",
    "        image_size=data.shape[-2:],\n",
    "        image_patch_size=(8, 2),\n",
    "        frames=data.shape[2],\n",
    "        frame_patch_size=2,\n",
    "        dim=256,\n",
    "        depth=2,\n",
    "        heads=8,\n",
    "        mlp_dim=256,\n",
    "        cond_emb=emb,\n",
    "        channels=len(emb),\n",
    "        out_channels=data.shape[1],\n",
    "        dropout=0.1,\n",
    "        emb_dropout=0.1,\n",
    "    ).to(device)\n",
    "    model_fluid.load_state_dict(\n",
    "        torch.load(\"../../results/nuclear_thermal_coupling/surrogateViTfluid/\" + iter + \"_5000/model.pt\")[\"model\"]\n",
    "    )\n",
    "elif model_type == \"FNO\":\n",
    "    model_fluid = FNO3D(\n",
    "        in_channels=len(emb),\n",
    "        out_channels=data.shape[1],\n",
    "        nr_fno_layers=3,\n",
    "        fno_layer_size=16,\n",
    "        fno_modes=[6, 16, 6],\n",
    "        cond_emb=emb,\n",
    "    ).to(device)\n",
    "    model_fluid.load_state_dict(\n",
    "        torch.load(\"../../results/nuclear_thermal_coupling/surrogateFNOfluid/\" + iter + \"_5000/model.pt\")[\"model\"]\n",
    "    )"
   ]
  },
  {
   "cell_type": "code",
   "execution_count": 53,
   "metadata": {},
   "outputs": [],
   "source": [
    "b = -32\n",
    "for i in range(len(cond)):\n",
    "    cond[i] = cond[i][b:]\n",
    "data = data[b:]\n",
    "with torch.no_grad():\n",
    "    pred = model_fluid(cond)\n",
    "    pred = renormalize(pred, field=\"fluid\")\n",
    "    data = renormalize(data, field=\"fluid\")"
   ]
  },
  {
   "cell_type": "code",
   "execution_count": null,
   "metadata": {},
   "outputs": [],
   "source": [
    "loss_fluid = 0\n",
    "for i in range(4):\n",
    "    cu_loss = relative_error(data[:, i], pred[:, i])\n",
    "    print(cu_loss)\n",
    "    loss_fluid += cu_loss\n",
    "relative_error(data, pred), loss_fluid / 4"
   ]
  },
  {
   "cell_type": "code",
   "execution_count": null,
   "metadata": {},
   "outputs": [],
   "source": [
    "channel = 0\n",
    "plot_compare_2d(data[-2, channel, -1], pred[-2, channel, -1])"
   ]
  },
  {
   "cell_type": "markdown",
   "metadata": {},
   "source": [
    "# combine"
   ]
  },
  {
   "cell_type": "code",
   "execution_count": 60,
   "metadata": {},
   "outputs": [],
   "source": [
    "b = None\n",
    "fuel = torch.tensor(np.load(\"../../data/NTcouple/val/fuel.npy\")).float().to(device)[:b]\n",
    "\n",
    "\n",
    "fluid = torch.tensor(np.load(\"../../data/NTcouple/val/fluid.npy\")).float().to(device)[:b]\n",
    "\n",
    "\n",
    "neu = torch.tensor(np.load(\"../../data/NTcouple/val/neu.npy\")).float().to(device)[:b]\n",
    "\n",
    "\n",
    "bc = torch.tensor(np.load(\"../../data/NTcouple/val/bc.npy\")).float().to(device)[:b]\n",
    "\n",
    "b = bc.shape[0]"
   ]
  },
  {
   "cell_type": "code",
   "execution_count": null,
   "metadata": {},
   "outputs": [],
   "source": [
    "fuel.shape, fluid.shape, neu.shape"
   ]
  },
  {
   "cell_type": "code",
   "execution_count": 62,
   "metadata": {},
   "outputs": [],
   "source": [
    "fluid_p = renormalize(torch.ones_like(fluid) * 0.5, \"fluid\")\n",
    "fuel_p = renormalize(torch.ones_like(fuel) * 0.5, \"solid\")\n",
    "neu_p = renormalize(torch.ones_like(neu) * 0.5, \"neutron\")"
   ]
  },
  {
   "cell_type": "code",
   "execution_count": 63,
   "metadata": {},
   "outputs": [],
   "source": [
    "def k(t):\n",
    "    return 17.5 * (1 - 0.223) / (1 + 0.161) + 1.54e-2 * (1 + 0.0061) / (1 + 0.161) * t + 9.38e-6 * t * t\n",
    "\n",
    "\n",
    "def update_f_neu(model, neu, fuel, fluid, arg):\n",
    "    fuel_n = normalize(fuel, \"solid\")\n",
    "    fluid_n = normalize(fluid[:, :1], \"fluid\")\n",
    "    arg_n = normalize(arg, \"neutron\")\n",
    "    T_n = torch.concat((fuel_n, fluid_n), dim=-1)\n",
    "    # print(fuel_n.shape, fluid_n.shape, arg_n.shape, T_n.shape)\n",
    "    neu_p = model([arg_n, T_n])\n",
    "    return renormalize(neu_p, \"neutron\")\n",
    "\n",
    "\n",
    "def update_f_fuel(model, neu, fuel, fluid, arg):\n",
    "    neu_n = normalize(neu[..., :8], \"solid\")\n",
    "    fluid_n = normalize(fluid, \"fluid\")[:, 0:1, :, :, 0:1]\n",
    "    fuel_p = model([neu_n, fluid_n])\n",
    "    return renormalize(fuel_p, \"solid\")\n",
    "\n",
    "\n",
    "def update_f_fluid(model, neu, fuel, fluid, arg):\n",
    "    flux = (fuel[..., -2:-1] - fuel[..., -1:None]) * k(fuel[..., -1:None])\n",
    "    flux_n = normalize(flux, \"flux\")\n",
    "    fluid_pp = model([flux_n])\n",
    "    return renormalize(fluid_pp, \"fluid\")"
   ]
  },
  {
   "cell_type": "code",
   "execution_count": null,
   "metadata": {},
   "outputs": [],
   "source": [
    "coeff = 0.5\n",
    "max_iter = 100\n",
    "\n",
    "with torch.no_grad():\n",
    "\n",
    "    for i in range(max_iter):\n",
    "        neu_p_old = neu_p\n",
    "        fuel_p_old = fuel_p\n",
    "        fluid_p_old = fluid_p\n",
    "        neu_p = update_f_neu(\n",
    "            model_neu, neu_p.clone(), fuel_p.clone(), fluid_p.clone(), bc.clone()\n",
    "        ) * coeff + neu_p_old * (1 - coeff)\n",
    "        fuel_p = update_f_fuel(\n",
    "            model_fuel, neu_p.clone(), fuel_p.clone(), fluid_p.clone(), bc.clone()\n",
    "        ) * coeff + fuel_p_old * (1 - coeff)\n",
    "        fluid_p = update_f_fluid(\n",
    "            model_fluid, neu_p.clone(), fuel_p.clone(), fluid_p.clone(), bc.clone()\n",
    "        ) * coeff + fluid_p_old * (1 - coeff)\n",
    "\n",
    "        loss1 = np.sum(L2_norm(neu_p - neu_p_old) / L2_norm(neu_p)) / neu_p.shape[0]\n",
    "\n",
    "        loss2 = np.sum(L2_norm(fuel_p - fuel_p_old) / L2_norm(fuel_p)) / fuel_p.shape[0]\n",
    "\n",
    "        loss3 = np.sum(L2_norm(fluid_p - fluid_p_old) / L2_norm(fluid_p)) / fluid_p.shape[0]\n",
    "\n",
    "        loss = loss1 + loss2 + loss3\n",
    "\n",
    "        print(\"loss: \", loss, loss1, loss2, loss3)\n",
    "\n",
    "        if loss < 1e-3:\n",
    "\n",
    "            print(\"converse in iteration: \", i)\n",
    "\n",
    "            break\n",
    "\n",
    "        if i == max_iter - 1:\n",
    "\n",
    "            print(\"up to max iteration\")"
   ]
  },
  {
   "cell_type": "code",
   "execution_count": null,
   "metadata": {},
   "outputs": [],
   "source": [
    "loss_fluid = 0\n",
    "for i in range(4):\n",
    "    cu_loss = relative_error(fluid[:, i], fluid_p[:, i])\n",
    "    print(cu_loss)\n",
    "    loss_fluid += cu_loss\n",
    "loss_fluid = loss_fluid / 4\n",
    "relative_error(neu, neu_p), relative_error(fuel, fuel_p), relative_error(fluid, fluid_p), loss_fluid"
   ]
  },
  {
   "cell_type": "code",
   "execution_count": null,
   "metadata": {},
   "outputs": [],
   "source": [
    "pred, data = neu_p, neu\n",
    "channel = 0\n",
    "plot_compare_2d(\n",
    "    data[-1, channel, -1], pred[-1, channel, -1], savep=\"../../results/nuclear_thermal_coupling/neutron_surrogate.png\"\n",
    ")"
   ]
  },
  {
   "cell_type": "code",
   "execution_count": null,
   "metadata": {},
   "outputs": [],
   "source": [
    "pred, data = fuel_p, fuel\n",
    "channel = 0\n",
    "plot_compare_2d(\n",
    "    data[-1, channel, -1], pred[-1, channel, -1], savep=\"../../results/nuclear_thermal_coupling/solid_surrogate.png\"\n",
    ")"
   ]
  },
  {
   "cell_type": "code",
   "execution_count": null,
   "metadata": {},
   "outputs": [],
   "source": [
    "pred, data = fluid_p, fluid\n",
    "phy_lis = [\"T\", \"P\", \"vx\", \"vy\"]\n",
    "for i in range(4):\n",
    "\n",
    "    channel = i\n",
    "\n",
    "    plot_compare_2d(\n",
    "        data[-1, channel, -1],\n",
    "        pred[-1, channel, -1],\n",
    "        savep=\"../../results/nuclear_thermal_coupling/fluid\" + phy_lis[i] + \"_surrogate.png\",\n",
    "    )"
   ]
  }
 ],
 "metadata": {
  "kernelspec": {
   "display_name": "pytorch",
   "language": "python",
   "name": "python3"
  },
  "language_info": {
   "codemirror_mode": {
    "name": "ipython",
    "version": 3
   },
   "file_extension": ".py",
   "mimetype": "text/x-python",
   "name": "python",
   "nbconvert_exporter": "python",
   "pygments_lexer": "ipython3",
   "version": "3.12.4"
  }
 },
 "nbformat": 4,
 "nbformat_minor": 2
}
